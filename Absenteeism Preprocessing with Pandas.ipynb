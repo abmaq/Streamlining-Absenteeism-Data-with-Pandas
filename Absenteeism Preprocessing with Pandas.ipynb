{
 "cells": [
  {
   "cell_type": "markdown",
   "id": "6cb6fbf1-d01e-482e-82e1-88c0e5751053",
   "metadata": {},
   "source": [
    "# Import packages"
   ]
  },
  {
   "cell_type": "code",
   "execution_count": null,
   "id": "92f6dd85-217b-46be-a1b9-1aad514c2ca0",
   "metadata": {},
   "outputs": [],
   "source": [
    "import pandas as pd"
   ]
  },
  {
   "cell_type": "markdown",
   "id": "232b374a-4825-4fc5-be94-51a392ee6893",
   "metadata": {},
   "source": [
    "# Load .csv File"
   ]
  },
  {
   "cell_type": "code",
   "execution_count": null,
   "id": "49f52e3a-b4ea-4858-8535-2bdef0100387",
   "metadata": {},
   "outputs": [],
   "source": [
    "#Let's eyeball the dataset to check if the company provided the information we want and to have a general idea of what is going on\n",
    "filename = \"Absenteeism-data.csv\"\n",
    "raw_csv_data  = pd.read_csv(filename)\n",
    "raw_csv_data"
   ]
  },
  {
   "cell_type": "markdown",
   "id": "7358ab73-6b39-4b7b-bcb5-38d11fc10916",
   "metadata": {},
   "source": [
    "# Copying Raw Data"
   ]
  },
  {
   "cell_type": "code",
   "execution_count": null,
   "id": "2ab0306e-c971-4c02-b768-00cae010cb06",
   "metadata": {},
   "outputs": [],
   "source": [
    "#Pandas DataFrames are mutable, so working directly with the original data can lead to unintended changes\n",
    "#Make a copy of the raw data so that the original file is avialable if we make mistakes\n",
    "df = raw_csv_data.copy()\n",
    "df"
   ]
  },
  {
   "cell_type": "markdown",
   "id": "956dd20e-a832-4586-aff5-62a6b21b393e",
   "metadata": {},
   "source": [
    "# Display options"
   ]
  },
  {
   "cell_type": "code",
   "execution_count": null,
   "id": "511a653b-87b6-4d18-bc0b-70deba9fa8af",
   "metadata": {},
   "outputs": [],
   "source": [
    "#Display all the data\n",
    "pd.options.display.max_rows = None\n",
    "pd.options.display.max_columns = None\n"
   ]
  },
  {
   "cell_type": "code",
   "execution_count": null,
   "id": "f91dac1a-714f-4f5f-acff-b489f574ea1f",
   "metadata": {},
   "outputs": [],
   "source": [
    "# Check for mmissing values as you eyeball the data\n",
    "display(df)"
   ]
  },
  {
   "cell_type": "code",
   "execution_count": null,
   "id": "036ce3d8-483b-4e87-88c6-7456c38ae97d",
   "metadata": {},
   "outputs": [],
   "source": [
    "# Let's print a concise summary of the dataframe with the .info()  method directly to df\n",
    "df.info()"
   ]
  },
  {
   "cell_type": "markdown",
   "id": "5ee0818f-d3b8-47f7-9479-f4292e9ba761",
   "metadata": {},
   "source": [
    "# Drop ID Column"
   ]
  },
  {
   "cell_type": "code",
   "execution_count": null,
   "id": "2bed1796-7277-45d9-ab92-16b01f9a95b0",
   "metadata": {},
   "outputs": [],
   "source": [
    "# ID numberwill not be useful in helping predict absenteeism as it only identifies individuals (label variable or nominal)\n",
    "# Apply the drop() method to df\n",
    "# This method delivers a temporary oputput so assign variable df as shown\n",
    "df = df.drop(['ID'], axis = 1)"
   ]
  },
  {
   "cell_type": "code",
   "execution_count": null,
   "id": "5a6ae7b7-b355-44d1-99d1-7781994e115c",
   "metadata": {},
   "outputs": [],
   "source": [
    "df"
   ]
  },
  {
   "cell_type": "markdown",
   "id": "e27f4d60-dcbb-4692-b89b-380613a69335",
   "metadata": {},
   "source": [
    "#  Reasons for absence"
   ]
  },
  {
   "cell_type": "code",
   "execution_count": null,
   "id": "3ba8f4d9-7822-4fd6-a683-f07608f213bc",
   "metadata": {},
   "outputs": [],
   "source": [
    "#let's take a cloer look at this attribute\n",
    "df['Reason for Absence']"
   ]
  },
  {
   "cell_type": "code",
   "execution_count": null,
   "id": "deed3d78-64f4-42eb-89fc-2e3870061279",
   "metadata": {},
   "outputs": [],
   "source": [
    "#Let's find the lowest and highest stored values\n",
    "df['Reason for Absence'].min()\n"
   ]
  },
  {
   "cell_type": "code",
   "execution_count": null,
   "id": "020a9809-eae3-415b-a8be-ce53f4ca0dd3",
   "metadata": {},
   "outputs": [],
   "source": [
    "df['Reason for Absence'].max()\n"
   ]
  },
  {
   "cell_type": "code",
   "execution_count": null,
   "id": "4818c777-a6a8-4fbd-ab78-5a8176b2f3c2",
   "metadata": {},
   "outputs": [],
   "source": [
    "#Let's extract a list containing distinct values only\n",
    "#List and only shown once\n",
    "pd.unique(df['Reason for Absence'])"
   ]
  },
  {
   "cell_type": "code",
   "execution_count": null,
   "id": "b83f47dd-7a23-4f6b-a12a-4be62144ab00",
   "metadata": {},
   "outputs": [],
   "source": [
    "df['Reason for Absence'].unique()\n"
   ]
  },
  {
   "cell_type": "code",
   "execution_count": null,
   "id": "cc82fda6-dd31-45ad-9b3d-e3af0db1907c",
   "metadata": {},
   "outputs": [],
   "source": [
    "#Let's find out how many distinct elements we have\n",
    "len(df['Reason for Absence'].unique())"
   ]
  },
  {
   "cell_type": "code",
   "execution_count": null,
   "id": "417f943e-d517-4f9a-9ed8-0efd93c30775",
   "metadata": {},
   "outputs": [],
   "source": [
    "#From min and max we discovered that the number of reasons are 0 to 28 i.e 29 reasons\n",
    "# From len() we only have 28 so a number between 0 and 28 is missing!\n",
    "#Let's sort the elements\n",
    "\n",
    "print(sorted(df['Reason for Absence'].unique()), end = ' ')"
   ]
  },
  {
   "cell_type": "code",
   "execution_count": null,
   "id": "2c17cd50-14fe-48b9-a2cd-1d318289db0b",
   "metadata": {},
   "outputs": [],
   "source": [
    "#Let's add numeric meaning to the categorical nominal values in the 'Reason for Absence' column.\n",
    "#Introduce dummy variable, a numeric variable that encodes categorical information. \n",
    "#Dummy variables have two possible values: 0 or 1\n",
    "#Use .get_dummies() \n",
    "\n",
    "reason_columns = pd.get_dummies(df['Reason for Absence'], dtype = int)"
   ]
  },
  {
   "cell_type": "code",
   "execution_count": null,
   "id": "00a4252d-69f2-4088-9a7e-72de4b736d55",
   "metadata": {},
   "outputs": [],
   "source": [
    "reason_columns"
   ]
  },
  {
   "cell_type": "code",
   "execution_count": null,
   "id": "3b2cce5e-549c-4fe6-8521-694e82559dcf",
   "metadata": {},
   "outputs": [],
   "source": [
    "#Let's confirm that each row has sum of 1 which confirms that one reason for absence has been given\n",
    "\n",
    "reason_columns['check']  = reason_columns.sum(axis=1)\n",
    "reason_columns"
   ]
  },
  {
   "cell_type": "code",
   "execution_count": null,
   "id": "dbe38662-5a2d-41ab-97b2-ec2b0fe6e61d",
   "metadata": {},
   "outputs": [],
   "source": [
    "reason_columns['check'].sum(axis=0)\n"
   ]
  },
  {
   "cell_type": "code",
   "execution_count": null,
   "id": "1986bc41-7df2-4755-af25-d725898948d3",
   "metadata": {},
   "outputs": [],
   "source": [
    "reason_columns['check'].unique()"
   ]
  },
  {
   "cell_type": "code",
   "execution_count": null,
   "id": "af264dc2-997e-45ea-a298-80bd4eb82db4",
   "metadata": {},
   "outputs": [],
   "source": [
    "#We have verified that the 'reason for absence' dummy variables are alright so we can drop the 'check' column\n",
    "\n",
    "reason_columns = reason_columns.drop(['check'], axis = 1)\n",
    "reason_columns"
   ]
  },
  {
   "cell_type": "markdown",
   "id": "e30fb859-b6de-4ca1-a98a-9d6ae3152464",
   "metadata": {},
   "source": [
    "# Drop the first column (reason 0)"
   ]
  },
  {
   "cell_type": "code",
   "execution_count": null,
   "id": "0d50f47f-406f-4745-8d9a-3475d7ff2643",
   "metadata": {},
   "outputs": [],
   "source": [
    "# Further analysis of the data (for example, with the code df[df['Reason for Absence'] == 0] shows that\n",
    "# every person with reason 0 actually had 0 absenteeism hours.\n",
    "# Reason 0 might be a placeholder for \"No absence\", So this reason doesn't matter much in this analysis and can be dropped\n",
    "\n",
    "df[df['Reason for Absence'] == 0] "
   ]
  },
  {
   "cell_type": "code",
   "execution_count": null,
   "id": "5807b118-01a0-42b9-959f-5ea094774855",
   "metadata": {},
   "outputs": [],
   "source": [
    "reason_columns = pd.get_dummies(df['Reason for Absence'], drop_first = True, dtype = int)"
   ]
  },
  {
   "cell_type": "code",
   "execution_count": null,
   "id": "7ca4470f-c632-48fa-a1e2-2deea179db6b",
   "metadata": {},
   "outputs": [],
   "source": [
    "reason_columns"
   ]
  },
  {
   "cell_type": "markdown",
   "id": "64b3951d-dc4a-44a8-adb3-2148c4bab3f1",
   "metadata": {},
   "source": [
    "# Group the Reasons for Absence"
   ]
  },
  {
   "cell_type": "code",
   "execution_count": null,
   "id": "8719ffa8-486c-4cef-9bfa-16e127ee9132",
   "metadata": {},
   "outputs": [],
   "source": [
    "#Let's recall the df column names\n",
    "df.columns.values"
   ]
  },
  {
   "cell_type": "code",
   "execution_count": null,
   "id": "0cf64aca-2bce-4d67-8e6d-8e7d402ff23f",
   "metadata": {},
   "outputs": [],
   "source": [
    "df.head(0)"
   ]
  },
  {
   "cell_type": "code",
   "execution_count": null,
   "id": "6037bacc-084a-4bbc-9750-eba94b8c0781",
   "metadata": {},
   "outputs": [],
   "source": [
    "#Recall the reason_columns values\n",
    "reason_columns.columns.values"
   ]
  },
  {
   "cell_type": "code",
   "execution_count": null,
   "id": "47065d4b-3390-4ef7-a30e-e405e83b65e2",
   "metadata": {},
   "outputs": [],
   "source": [
    "# Drop 'Reason for Absence' column from df dataframe\n",
    "df = df.drop(['Reason for Absence'], axis = 1)\n"
   ]
  },
  {
   "cell_type": "code",
   "execution_count": null,
   "id": "97dfddad-9b0f-4e97-95c4-5f3a303a9e5c",
   "metadata": {},
   "outputs": [],
   "source": [
    "#confirm it has been dropped\n",
    "df.head(3)"
   ]
  },
  {
   "cell_type": "code",
   "execution_count": null,
   "id": "37e014b2-6958-4431-842e-79eab01f928a",
   "metadata": {},
   "outputs": [],
   "source": [
    "#Dummy/indicator variables increases the number of columns in the data table\n",
    "#Group variables (reasons for absence) to avoid having too many columns\n",
    "#Classify reasons for absence into groups with important commonalities\n",
    "#Group 1: Columns 1 to 14, Group 2: Columns 15, 16, and 17, Group 3: Columns 18, 19, 20, and 21 and Group 4: Columns 22 to 28\n",
    "#Use the .loc method to split into these groups\n",
    "#Then confirm the splits\n",
    "\n",
    "reason_columns.loc[:, 1:14].head(5)\n",
    "\n"
   ]
  },
  {
   "cell_type": "code",
   "execution_count": null,
   "id": "b65d9125-7447-44a5-8774-27e808c77884",
   "metadata": {},
   "outputs": [],
   "source": [
    "reason_columns.loc[:, 15:17].head(5)\n"
   ]
  },
  {
   "cell_type": "code",
   "execution_count": null,
   "id": "f1b8d7f9-d5ab-4444-a347-27df81bdb0d2",
   "metadata": {},
   "outputs": [],
   "source": [
    "reason_columns.loc[:, 18:21].head(5)\n"
   ]
  },
  {
   "cell_type": "code",
   "execution_count": null,
   "id": "bf8eac4c-0b54-44f6-9611-e392a90e0ccf",
   "metadata": {},
   "outputs": [],
   "source": [
    "reason_columns.loc[:, 22:28].head(5)"
   ]
  },
  {
   "cell_type": "code",
   "execution_count": null,
   "id": "9b2e92ee-b9b5-4272-8a78-d04a84260582",
   "metadata": {},
   "outputs": [],
   "source": [
    "#We have split into 4 groups so we cannot use the .sum() to check \n",
    "#Find the maximum value in each group \n",
    "# A maximum value of 1 means among each group the number one has been observed\n",
    "# A maximum of 0 would mean there is no value on the given rows equal to 1\n",
    "\n",
    "reason_type_1 = reason_columns.loc[:, 1:14].max(axis=1)\n",
    "reason_type_2 = reason_columns.loc[:, 15:17].max(axis=1)\n",
    "reason_type_3 = reason_columns.loc[:, 18:21].max(axis=1)\n",
    "reason_type_4 = reason_columns.loc[:, 22:28].max(axis=1)\n"
   ]
  },
  {
   "cell_type": "markdown",
   "id": "c9d26eda-034c-4e57-9884-e15d4e7158f7",
   "metadata": {},
   "source": [
    "# Concatenate Column Values"
   ]
  },
  {
   "cell_type": "code",
   "execution_count": null,
   "id": "d92aafb7-074b-4b95-83c4-be24261e34a7",
   "metadata": {},
   "outputs": [],
   "source": [
    "df.head()"
   ]
  },
  {
   "cell_type": "code",
   "execution_count": null,
   "id": "9ee51e23-0882-4203-a819-1094eb3f22db",
   "metadata": {
    "scrolled": true
   },
   "outputs": [],
   "source": [
    "df = pd.concat([df, reason_type_1, reason_type_2, reason_type_3, reason_type_4], axis = 1)\n",
    "df.head()"
   ]
  },
  {
   "cell_type": "code",
   "execution_count": null,
   "id": "6ccf7f2f-ef92-4a84-8988-d2ab7f8162fc",
   "metadata": {},
   "outputs": [],
   "source": [
    "df.columns.values"
   ]
  },
  {
   "cell_type": "code",
   "execution_count": null,
   "id": "c39436fa-2b8b-40e6-b084-614952fb07cf",
   "metadata": {},
   "outputs": [],
   "source": [
    "column_names = ['Date', 'Transportation Expense', 'Distance to Work', 'Age',\n",
    "                'Daily Work Load Average', 'Body Mass Index', 'Education',\n",
    "                'Children', 'Pets', 'Absenteeism Time in Hours', 'Reason_1', 'Reason_2', 'Reason_3', 'Reason_4']"
   ]
  },
  {
   "cell_type": "code",
   "execution_count": null,
   "id": "bf9d9a4b-9cae-486e-ac37-201856234fc0",
   "metadata": {},
   "outputs": [],
   "source": [
    "df.columns = column_names\n",
    "df.head()"
   ]
  },
  {
   "cell_type": "markdown",
   "id": "50c4ca41-6bd3-4942-a8a9-6d68d068ed68",
   "metadata": {},
   "source": [
    "# Reorder Columns"
   ]
  },
  {
   "cell_type": "code",
   "execution_count": null,
   "id": "501df3e1-670c-4c00-bcf4-47b65713c37a",
   "metadata": {},
   "outputs": [],
   "source": [
    "column_names_reordered = ['Reason_1', 'Reason_2', 'Reason_3', 'Reason_4', 'Date', 'Transportation Expense', 'Distance to Work', 'Age',\n",
    "                'Daily Work Load Average', 'Body Mass Index', 'Education',\n",
    "                'Children', 'Pets', 'Absenteeism Time in Hours' ]"
   ]
  },
  {
   "cell_type": "code",
   "execution_count": null,
   "id": "796d05e2-8e6d-4f92-afa4-2503fd38f7a0",
   "metadata": {},
   "outputs": [],
   "source": [
    "df = df[column_names_reordered]\n",
    "df.head()"
   ]
  },
  {
   "cell_type": "markdown",
   "id": "75a99386-4a30-4625-95de-051782bdb039",
   "metadata": {},
   "source": [
    "# Creating Checkpoints"
   ]
  },
  {
   "cell_type": "code",
   "execution_count": null,
   "id": "9309ade2-5476-426b-88a6-2897911836f9",
   "metadata": {},
   "outputs": [],
   "source": [
    "df_checkpoint = df.copy()\n",
    "df_checkpoint.head()"
   ]
  },
  {
   "cell_type": "code",
   "execution_count": null,
   "id": "3ff362a0-6a65-4c61-a3af-248acda3185c",
   "metadata": {
    "scrolled": true
   },
   "outputs": [],
   "source": [
    "#Let's rename the modified dataframe, which we will work with from now on\n",
    "df_reason_mod = df.copy()\n",
    "\n",
    "df_reason_mod"
   ]
  },
  {
   "cell_type": "markdown",
   "id": "836d98c1-f812-45d0-8fd2-4f95186bd329",
   "metadata": {},
   "source": [
    "# Date"
   ]
  },
  {
   "cell_type": "code",
   "execution_count": null,
   "id": "dd77babb-6ff0-4b98-90fd-3d7fcc9cca17",
   "metadata": {},
   "outputs": [],
   "source": [
    "#Let's check the contents of the date column\n",
    "df_reason_mod['Date']"
   ]
  },
  {
   "cell_type": "code",
   "execution_count": null,
   "id": "f7a02c1b-a6fd-4c62-bb57-4f81e12f28d5",
   "metadata": {},
   "outputs": [],
   "source": [
    "type(df_reason_mod['Date'])"
   ]
  },
  {
   "cell_type": "code",
   "execution_count": null,
   "id": "8b2e0d70-9441-4c99-bcd9-dba9b2ca5363",
   "metadata": {},
   "outputs": [],
   "source": [
    "#Check the data type of the first value of this series\n",
    "type(df_reason_mod['Date'][0])"
   ]
  },
  {
   "cell_type": "code",
   "execution_count": null,
   "id": "b7e50f6f-fb25-43b1-a081-855dec36353a",
   "metadata": {},
   "outputs": [],
   "source": [
    "df_reason_mod['Date'] = pd.to_datetime(df_reason_mod['Date'], format = '%d/%m/%Y')"
   ]
  },
  {
   "cell_type": "code",
   "execution_count": null,
   "id": "50e1fb78-c358-4b53-82a1-f0f09dacdce5",
   "metadata": {},
   "outputs": [],
   "source": [
    "df_reason_mod['Date']"
   ]
  },
  {
   "cell_type": "code",
   "execution_count": null,
   "id": "338eb9ec-234b-4121-970f-3a1822fca0c7",
   "metadata": {},
   "outputs": [],
   "source": [
    "#Check the new data type\n",
    "type(df_reason_mod['Date'][0])"
   ]
  },
  {
   "cell_type": "code",
   "execution_count": null,
   "id": "60f924dd-8997-469d-9a9b-eaaadfcbaf09",
   "metadata": {},
   "outputs": [],
   "source": [
    "df_reason_mod.info()"
   ]
  },
  {
   "cell_type": "markdown",
   "id": "44f469ba-75b0-449b-a319-baea8200d4d4",
   "metadata": {},
   "source": [
    "# Extract the Month Value "
   ]
  },
  {
   "cell_type": "code",
   "execution_count": null,
   "id": "9cba078f-d9fa-4a16-8105-b5c3a23a7cb0",
   "metadata": {},
   "outputs": [],
   "source": [
    "df_reason_mod['Date'][0]"
   ]
  },
  {
   "cell_type": "code",
   "execution_count": null,
   "id": "554f1185-1ca3-4f18-bb60-7aefa4210a92",
   "metadata": {},
   "outputs": [],
   "source": [
    "#Months take values from 1 to 12\n",
    "\n",
    "df_reason_mod['Date'][0].month"
   ]
  },
  {
   "cell_type": "code",
   "execution_count": null,
   "id": "17d63a8d-f0d9-43e6-9675-0f6e826fe507",
   "metadata": {},
   "outputs": [],
   "source": [
    "list_months = []\n",
    "list_months"
   ]
  },
  {
   "cell_type": "code",
   "execution_count": null,
   "id": "2c25425b-7285-4511-a66d-7659df089c1f",
   "metadata": {},
   "outputs": [],
   "source": [
    "df_reason_mod.shape"
   ]
  },
  {
   "cell_type": "code",
   "execution_count": null,
   "id": "94b5b36d-ef38-4c88-a36b-f3fa4281fb30",
   "metadata": {},
   "outputs": [],
   "source": []
  },
  {
   "cell_type": "code",
   "execution_count": null,
   "id": "b19fbe98-a029-4ff6-98f2-f65648ecfb42",
   "metadata": {},
   "outputs": [],
   "source": [
    "for i in range(df_reason_mod.shape[0]):\n",
    "    list_months.append(df_reason_mod['Date'][i].month)"
   ]
  },
  {
   "cell_type": "code",
   "execution_count": null,
   "id": "0edd17ce-f191-4483-9dae-398e1788a6f7",
   "metadata": {},
   "outputs": [],
   "source": [
    "print(list_months, end = '')"
   ]
  },
  {
   "cell_type": "code",
   "execution_count": null,
   "id": "6032165e-ddd0-474b-a8e5-2c0c77e3b62d",
   "metadata": {},
   "outputs": [],
   "source": [
    "len(list_months)"
   ]
  },
  {
   "cell_type": "code",
   "execution_count": null,
   "id": "f5d1abeb-b555-4e7f-b4d6-438506d37891",
   "metadata": {},
   "outputs": [],
   "source": [
    "df_reason_mod['Month Value'] = list_months"
   ]
  },
  {
   "cell_type": "code",
   "execution_count": null,
   "id": "d9bf0c00-7579-46c0-b206-2b18320cecf8",
   "metadata": {},
   "outputs": [],
   "source": [
    "df_reason_mod.head()"
   ]
  },
  {
   "cell_type": "markdown",
   "id": "77f39f33-96d4-4166-a9cc-1270f08cdb3b",
   "metadata": {},
   "source": [
    "# Extract the Day of the Week"
   ]
  },
  {
   "cell_type": "code",
   "execution_count": null,
   "id": "6dfa326a-ed7f-4630-bad3-ac95851192f2",
   "metadata": {},
   "outputs": [],
   "source": [
    "#0 is a Monday and then squentially up to 6 which is Sunday\n",
    "df_reason_mod['Date'][699].weekday()"
   ]
  },
  {
   "cell_type": "code",
   "execution_count": null,
   "id": "ae06cac4-f650-4c6a-96d4-39b0f70c0614",
   "metadata": {},
   "outputs": [],
   "source": [
    "def date_to_weekday(date_value):\n",
    "    return date_value.weekday()"
   ]
  },
  {
   "cell_type": "code",
   "execution_count": null,
   "id": "7a0e1ffc-0fc2-4a98-bd93-4c83cc1b887b",
   "metadata": {},
   "outputs": [],
   "source": [
    "df_reason_mod['Day of the Week'] = df_reason_mod['Date'].apply(date_to_weekday)"
   ]
  },
  {
   "cell_type": "code",
   "execution_count": null,
   "id": "a1f94bb9-4d41-4f01-b1e0-c5a0958a0e8b",
   "metadata": {},
   "outputs": [],
   "source": [
    "df_reason_mod.head()"
   ]
  },
  {
   "cell_type": "markdown",
   "id": "0478169d-72c8-4a13-9180-950f88d23524",
   "metadata": {},
   "source": [
    "# Turning the data from the ‘Education’ column into binary data"
   ]
  },
  {
   "cell_type": "code",
   "execution_count": null,
   "id": "7fbe5ac6-685f-4768-bdcf-cbccbabcca4b",
   "metadata": {},
   "outputs": [],
   "source": [
    "df_reason_mod['Education'].unique()"
   ]
  },
  {
   "cell_type": "code",
   "execution_count": null,
   "id": "6d412102-7ae8-4179-9c7c-58047077975d",
   "metadata": {
    "scrolled": true
   },
   "outputs": [],
   "source": [
    "df_reason_mod['Education'].value_counts()"
   ]
  },
  {
   "cell_type": "code",
   "execution_count": null,
   "id": "22ea2d2f-1e61-4982-a845-29f7a1eba835",
   "metadata": {},
   "outputs": [],
   "source": [
    "# 1 represents high school, 2 stands for graduate, 3 for postgraduate and 4 for masters or doctorate\n",
    "# Roughly 600 people have a high school diploma, the rest hold a university degree\n",
    "#Makes sense to have 2 categories: high school = 0 and the rest = 1\n",
    "\n",
    "df_reason_mod['Education'] = df_reason_mod['Education'].map({1:0, 2:1, 3:1, 4:1})\n"
   ]
  },
  {
   "cell_type": "code",
   "execution_count": null,
   "id": "0f03a2fe-de30-46cf-a8ac-87e26413fa6b",
   "metadata": {},
   "outputs": [],
   "source": [
    "df_reason_mod['Education'].unique()"
   ]
  },
  {
   "cell_type": "code",
   "execution_count": null,
   "id": "6382b6c3-b0fb-4966-bcae-e7ce8f912117",
   "metadata": {},
   "outputs": [],
   "source": [
    "df_reason_mod['Education'].value_counts()"
   ]
  },
  {
   "cell_type": "code",
   "execution_count": null,
   "id": "879807f1-3531-4d6b-b184-c9de0912edb8",
   "metadata": {},
   "outputs": [],
   "source": [
    "df_reason_mod.head()"
   ]
  },
  {
   "cell_type": "code",
   "execution_count": null,
   "id": "1e4817ce-cb4c-43d5-ab09-debfd45c51f9",
   "metadata": {},
   "outputs": [],
   "source": [
    "df_reason_mod = df_reason_mod.drop(['Date'],axis = 1)"
   ]
  },
  {
   "cell_type": "code",
   "execution_count": null,
   "id": "b6c7f979-a543-49ed-8197-36e98ae12ce7",
   "metadata": {},
   "outputs": [],
   "source": [
    "df_reason_mod.head()"
   ]
  },
  {
   "cell_type": "code",
   "execution_count": null,
   "id": "b5d21bb0-ccda-4bf4-a9fb-b142d95c3c4e",
   "metadata": {},
   "outputs": [],
   "source": [
    "df_reason_mod.columns"
   ]
  },
  {
   "cell_type": "code",
   "execution_count": null,
   "id": "e568e31e-9f9d-46bb-a60d-1cdb2fa9dc44",
   "metadata": {},
   "outputs": [],
   "source": [
    "final_column_order = ['Reason_1', 'Reason_2', 'Reason_3', 'Reason_4',\n",
    "                 'Month Value', 'Day of the Week','Transportation Expense', \n",
    "                 'Distance to Work', 'Age', 'Daily Work Load Average', 'Body Mass Index', \n",
    "                 'Education', 'Children', 'Pets', 'Absenteeism Time in Hours']"
   ]
  },
  {
   "cell_type": "code",
   "execution_count": null,
   "id": "893614c2-4944-4365-951f-a52867bfb937",
   "metadata": {},
   "outputs": [],
   "source": [
    "df_reason_mod = df_reason_mod[final_column_order]"
   ]
  },
  {
   "cell_type": "code",
   "execution_count": null,
   "id": "43815dca-20c3-4c44-bbe4-8d4c19f0c7b6",
   "metadata": {},
   "outputs": [],
   "source": [
    "df_reason_mod.head()"
   ]
  },
  {
   "cell_type": "markdown",
   "id": "a648a2a5-883a-4c6e-97f5-a094352b0fa2",
   "metadata": {},
   "source": [
    "# Final Checkpoint"
   ]
  },
  {
   "cell_type": "code",
   "execution_count": null,
   "id": "43b7edf6-b5c0-4a97-bc17-2097529f1a9d",
   "metadata": {
    "scrolled": true
   },
   "outputs": [],
   "source": [
    "df_cleaned = df_reason_mod.copy()\n",
    "df_cleaned"
   ]
  },
  {
   "cell_type": "code",
   "execution_count": null,
   "id": "d2f370c5-2095-4c69-8b9a-d55d3fedd8f8",
   "metadata": {},
   "outputs": [],
   "source": []
  }
 ],
 "metadata": {
  "kernelspec": {
   "display_name": "Python 3 (ipykernel)",
   "language": "python",
   "name": "python3"
  },
  "language_info": {
   "codemirror_mode": {
    "name": "ipython",
    "version": 3
   },
   "file_extension": ".py",
   "mimetype": "text/x-python",
   "name": "python",
   "nbconvert_exporter": "python",
   "pygments_lexer": "ipython3",
   "version": "3.11.7"
  }
 },
 "nbformat": 4,
 "nbformat_minor": 5
}
